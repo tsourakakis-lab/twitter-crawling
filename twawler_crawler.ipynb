{
 "cells": [
  {
   "cell_type": "code",
   "execution_count": 1,
   "metadata": {},
   "outputs": [],
   "source": [
    "import numpy as np\n",
    "import networkx as nx\n",
    "import pandas as pd"
   ]
  },
  {
   "cell_type": "code",
   "execution_count": 2,
   "metadata": {},
   "outputs": [],
   "source": [
    "from twkit.utils import *\n",
    "from twkit.crawler.fillfollow import add100_id"
   ]
  },
  {
   "cell_type": "code",
   "execution_count": 3,
   "metadata": {},
   "outputs": [],
   "source": [
    "import twkit"
   ]
  },
  {
   "cell_type": "markdown",
   "metadata": {},
   "source": [
    "### 1. Add starting point, start crawling"
   ]
  },
  {
   "cell_type": "code",
   "execution_count": null,
   "metadata": {},
   "outputs": [],
   "source": [
    "!python3 bin/add_user.py <username>"
   ]
  },
  {
   "cell_type": "code",
   "execution_count": null,
   "metadata": {},
   "outputs": [],
   "source": [
    "!bash scripts/start-all.sh"
   ]
  },
  {
   "cell_type": "markdown",
   "metadata": {},
   "source": [
    "### 2. Export users from users collections"
   ]
  },
  {
   "cell_type": "code",
   "execution_count": null,
   "metadata": {},
   "outputs": [],
   "source": [
    "db, api = init_state()\n",
    "\n",
    "num_users = db.users.count()\n",
    "user_ids = db.users.find(projection={\"_id\":0,\"id\": 1,})\n",
    "ids_dict = list(user_ids)\n",
    "\n",
    "ids = [list(u.values())[0] for u in ids_dict]\n",
    "np.save(\"user.npy\", ids)"
   ]
  },
  {
   "cell_type": "code",
   "execution_count": 4,
   "metadata": {},
   "outputs": [],
   "source": [
    "users = np.load(\"user.npy\")"
   ]
  },
  {
   "cell_type": "code",
   "execution_count": 5,
   "metadata": {},
   "outputs": [
    {
     "data": {
      "text/plain": [
       "249346"
      ]
     },
     "execution_count": 5,
     "metadata": {},
     "output_type": "execute_result"
    }
   ],
   "source": [
    "len(users)"
   ]
  },
  {
   "cell_type": "markdown",
   "metadata": {},
   "source": [
    "### 3. Add more users to be tracked"
   ]
  },
  {
   "cell_type": "code",
   "execution_count": null,
   "metadata": {},
   "outputs": [],
   "source": [
    "users = np.load(\"user.npy\")\n",
    "verbose(False)\n",
    "db, api = init_state(use_cache=False)\n",
    "\n",
    "idlist = []\n",
    "for user in users:\n",
    "    userid = int(user)\n",
    "    if not can_follow(db, userid, False): continue\n",
    "    idlist.append(userid)\n",
    "    if len(idlist) > 99:\n",
    "        addedlist = add100_id(db, api, idlist)\n",
    "        idlist = []\n",
    "        for u in addedlist:\n",
    "            add_to_followed(db, u['id'], u['screen_name_lower'], u.get('protected', False))\n",
    "    if len(idlist):\n",
    "        addedlist = add100_id(db, api, idlist)\n",
    "    for u in addedlist:\n",
    "        add_to_followed(db, u['id'], u['screen_name_lower'], u.get('protected', False))"
   ]
  },
  {
   "cell_type": "code",
   "execution_count": 3,
   "metadata": {},
   "outputs": [],
   "source": [
    "users = np.load(\"user.npy\")"
   ]
  },
  {
   "cell_type": "code",
   "execution_count": 16,
   "metadata": {},
   "outputs": [],
   "source": [
    "users = np.load(\"bin/user.npy\")"
   ]
  },
  {
   "cell_type": "code",
   "execution_count": 17,
   "metadata": {},
   "outputs": [
    {
     "data": {
      "text/plain": [
       "48201"
      ]
     },
     "execution_count": 17,
     "metadata": {},
     "output_type": "execute_result"
    }
   ],
   "source": [
    "len(users)"
   ]
  },
  {
   "cell_type": "markdown",
   "metadata": {},
   "source": [
    "### 4. Export graphs"
   ]
  },
  {
   "cell_type": "code",
   "execution_count": 7,
   "metadata": {},
   "outputs": [
    {
     "name": "stdout",
     "output_type": "stream",
     "text": [
      "Traceback (most recent call last):\r\n",
      "  File \"/Users/zircon/Documents/GitHub/twAwler/twkit/curation/exportfollow.py\", line 17, in <module>\r\n",
      "    from twkit.utils import *\r\n",
      "ModuleNotFoundError: No module named 'twkit'\r\n"
     ]
    }
   ],
   "source": [
    "!python3 twkit/curation/exportfollow.py"
   ]
  },
  {
   "cell_type": "code",
   "execution_count": null,
   "metadata": {},
   "outputs": [],
   "source": [
    "!python3 twkit/curation/exportmention.py"
   ]
  },
  {
   "cell_type": "code",
   "execution_count": null,
   "metadata": {},
   "outputs": [],
   "source": [
    "!python3 twkit/curation/exportquote.py"
   ]
  },
  {
   "cell_type": "code",
   "execution_count": null,
   "metadata": {},
   "outputs": [],
   "source": [
    "!python3 twkit/curation/exportreply.py"
   ]
  },
  {
   "cell_type": "markdown",
   "metadata": {},
   "source": [
    "### 5. Create Graph"
   ]
  },
  {
   "cell_type": "markdown",
   "metadata": {},
   "source": [
    "#### Initial Follow Graph"
   ]
  },
  {
   "cell_type": "code",
   "execution_count": 6,
   "metadata": {},
   "outputs": [],
   "source": [
    "df1 = pd.read_csv(\"follow2.txt\", sep=' ', names=[\"start\",\"end\"])\n",
    "edge_list_new = df1.values.tolist()"
   ]
  },
  {
   "cell_type": "code",
   "execution_count": 7,
   "metadata": {},
   "outputs": [],
   "source": [
    "G = nx.Graph()\n",
    "G.add_edges_from(edge_list_new)"
   ]
  },
  {
   "cell_type": "code",
   "execution_count": 8,
   "metadata": {},
   "outputs": [
    {
     "name": "stdout",
     "output_type": "stream",
     "text": [
      "2532573 5989937\n"
     ]
    }
   ],
   "source": [
    "print(len(G.nodes()),len(G.edges()))"
   ]
  },
  {
   "cell_type": "markdown",
   "metadata": {},
   "source": [
    "#### Get induced graph on users"
   ]
  },
  {
   "cell_type": "code",
   "execution_count": 9,
   "metadata": {},
   "outputs": [],
   "source": [
    "induced_G = G.subgraph(users)"
   ]
  },
  {
   "cell_type": "code",
   "execution_count": 10,
   "metadata": {},
   "outputs": [
    {
     "name": "stdout",
     "output_type": "stream",
     "text": [
      "727138 185533\n"
     ]
    }
   ],
   "source": [
    "print(len(induced_G.edges),len(induced_G.nodes))"
   ]
  },
  {
   "cell_type": "markdown",
   "metadata": {},
   "source": [
    "### 6. Export users whose tweets matches keywords"
   ]
  },
  {
   "cell_type": "markdown",
   "metadata": {},
   "source": [
    "#### Using keywords related to vaccination"
   ]
  },
  {
   "cell_type": "code",
   "execution_count": 67,
   "metadata": {},
   "outputs": [],
   "source": [
    "keywords = ['vaccine', 'vaccination','vaccinate','vax', 'vaccinated']\n",
    "\n",
    "def hashtag_keywords_check(keywords, hashtags):\n",
    "    for hashtag in hashtags:\n",
    "        if hashtag.lower() in keywords:\n",
    "            return True\n",
    "    return False"
   ]
  },
  {
   "cell_type": "code",
   "execution_count": 23,
   "metadata": {},
   "outputs": [],
   "source": [
    "import nltk\n",
    "from nltk.stem import WordNetLemmatizer\n",
    "lemmatizer = WordNetLemmatizer()\n",
    "\n",
    "def word_normalization(word):\n",
    "    word = ''.join(w for w in word if w not in string.punctuation) # Remove the punctuations in the word\n",
    "    word = word.lower() # Lowercase the word\n",
    "    word = lemmatizer.lemmatize(word) # Lemmatise the word\n",
    "    return word\n",
    "\n",
    "def tweets_keywords_check(keywords, tweets):\n",
    "    word_list = nltk.word_tokenize(tweets) # Tokenize the sentences\n",
    "    word_list = list(map(word_normalization, word_list))\n",
    "    \n",
    "    for keyword in keywords:\n",
    "        if keyword in word_list:\n",
    "            return True\n",
    "    return False"
   ]
  },
  {
   "cell_type": "code",
   "execution_count": 28,
   "metadata": {},
   "outputs": [],
   "source": [
    "def export_users_using_keywords(keywords):\n",
    "    db, api = init_state()\n",
    "    tweets = db.tweets.find()\n",
    "    users_dict = {}\n",
    "    for tw in tweets:\n",
    "        if 'hashtags' in tw and tw['created_at'].year >= 2019:\n",
    "            if hashtag_keywords_check(keywords, tw['hashtags']) or tweets_keywords_check(keywords, tw['text']):\n",
    "                if tw['user']['id'] not in users_dict:\n",
    "                    users_dict[tw['user']['id']] = []\n",
    "                    \n",
    "                text = tw['text']\n",
    "                subjectivity = TextBlob(text).sentiment.subjectivity\n",
    "                polarity = TextBlob(text).sentiment.polarity\n",
    "                \n",
    "                desc = {\"tweet_id\": tw['id'], \"created_at\": tw['created_at'],\n",
    "                        \"subjectivity\": subjectivity, \"polarity\": polarity}\n",
    "                \n",
    "                users_dict[tw['user']['id']].append(desc)\n",
    "                \n",
    "    print(\"Finished checking, start saving\")\n",
    "    with open('user_tweets.json', 'w') as fp:\n",
    "        json.dump(users_dict, fp)\n",
    "    users = list(users_dict.keys())\n",
    "    np.save(\"keyword_users.npy\", np.array(users))"
   ]
  },
  {
   "cell_type": "code",
   "execution_count": 29,
   "metadata": {},
   "outputs": [],
   "source": [
    "import string\n",
    "from textblob import TextBlob\n",
    "import json"
   ]
  },
  {
   "cell_type": "code",
   "execution_count": 40,
   "metadata": {},
   "outputs": [
    {
     "name": "stdout",
     "output_type": "stream",
     "text": [
      "Finished checking, start saving\n"
     ]
    }
   ],
   "source": [
    "db, api = init_state()\n",
    "tweets = db.tweets.find()\n",
    "users_dict = {}\n",
    "for tw in tweets:\n",
    "    # Check if tweets has hashtags and is posted after 2019\n",
    "    if 'hashtags' in tw and tw['created_at'].year >= 2019:\n",
    "        # Check if keywords matches\n",
    "        if hashtag_keywords_check(keywords, tw['hashtags']) or tweets_keywords_check(keywords, tw['text']):\n",
    "            if tw['user']['id'] not in users_dict:\n",
    "                users_dict[tw['user']['id']] = []\n",
    "            # Turn timestamp(datetime.datetime) to dictionary\n",
    "            created = tw['created_at']\n",
    "            timestamp = {'year':created.year,'month':created.month,'day':created.day,\n",
    "                         'hour':created.hour,'minute':created.minute,'second':created.second}\n",
    "            # Compute score for tweet texts\n",
    "            text = tw['text']\n",
    "            subjectivity = TextBlob(text).sentiment.subjectivity\n",
    "            polarity = TextBlob(text).sentiment.polarity\n",
    "            \n",
    "            # Create dictionary for tweets    \n",
    "            desc = {\"tweet_id\": tw['id'], \"created_at\": timestamp,\n",
    "                    \"subjectivity\": subjectivity, \"polarity\": polarity}\n",
    "            \n",
    "            # Append this dictionary to the corresponding user\n",
    "            users_dict[tw['user']['id']].append(desc)\n",
    "                \n",
    "print(\"Finished checking, start saving\")\n",
    "\n",
    "# Save the user-tweets dictionary\n",
    "with open('user_tweets.json', 'w') as fp:\n",
    "    json.dump(users_dict, fp)\n",
    "    \n",
    "# Save the users for induced graph\n",
    "users = list(users_dict.keys())\n",
    "np.save(\"keyword_users.npy\", np.array(users))"
   ]
  },
  {
   "cell_type": "code",
   "execution_count": 71,
   "metadata": {},
   "outputs": [],
   "source": [
    "kw_user = np.load(\"keyword_users.npy\")\n",
    "\n",
    "# Select nodes that are in the induced graph\n",
    "current_users = list(induced_G.nodes())\n",
    "induced_users = []\n",
    "for i in kw_user:\n",
    "    if i in current_users:\n",
    "        induced_users.append(i)"
   ]
  },
  {
   "cell_type": "code",
   "execution_count": 48,
   "metadata": {},
   "outputs": [
    {
     "name": "stdout",
     "output_type": "stream",
     "text": [
      "Number of nodes left:  4547\n",
      "Number of edges left:  17534\n"
     ]
    }
   ],
   "source": [
    "latest_G = induced_G.subgraph(induced_users)\n",
    "print(\"Number of nodes left: \", len(list(latest_G.nodes())))\n",
    "print(\"Number of edges left: \", len(list(latest_G.edges())))"
   ]
  },
  {
   "cell_type": "code",
   "execution_count": 49,
   "metadata": {},
   "outputs": [],
   "source": [
    "nx.write_gpickle(latest_G,\"latest.gpickle\")"
   ]
  },
  {
   "cell_type": "code",
   "execution_count": null,
   "metadata": {},
   "outputs": [],
   "source": [
    "# Functions for extracting tweets of users (Useless right now)\n",
    "def export_users_tweets(keywords):\n",
    "    db, api = init_state()\n",
    "    tweets = db.tweets.find()\n",
    "\n",
    "    for tw in tweets:\n",
    "        if 'hashtags' in tw:\n",
    "            if tw['user']['id'] in induced_users:\n",
    "                if hashtag_keywords_check(keywords, tw['hashtags']) or tweets_keywords_check(keywords, tw['text']):\n",
    "                    user_tweets[tw['user']['id']].append(tw['text'])\n",
    "    \n",
    "    with open('user_tweets.json', 'w') as fp:\n",
    "        json.dump(user_tweets, fp)\n",
    "\n",
    "export_users_tweets(keywords)\n",
    "\n",
    "user_tweets = {}\n",
    "for user in induced_users:\n",
    "    user_tweets[user] = []"
   ]
  },
  {
   "cell_type": "markdown",
   "metadata": {},
   "source": [
    "### Find the second keyword list"
   ]
  },
  {
   "cell_type": "code",
   "execution_count": null,
   "metadata": {},
   "outputs": [],
   "source": [
    "db, api = init_state()\n",
    "tweets = db.tweets.find()\n",
    "\n",
    "hashtags_count = {}\n",
    "\n",
    "for tw in tweets:\n",
    "    if 'hashtags' in tw and tw['user']['id'] in current_users:\n",
    "        for hashtag in tw['hashtags']:\n",
    "            if hashtag not in hashtags_count:\n",
    "                hashtags_count[hashtag] = 0\n",
    "            hashtags_count[hashtag] += 1"
   ]
  },
  {
   "cell_type": "code",
   "execution_count": 54,
   "metadata": {},
   "outputs": [],
   "source": [
    "hashtags_sorted = sorted(list(hashtags_count.items()),key=lambda x: x[1])"
   ]
  },
  {
   "cell_type": "code",
   "execution_count": 58,
   "metadata": {},
   "outputs": [],
   "source": [
    "reversed_hashtags_sorted = hashtags_sorted[::-1]"
   ]
  },
  {
   "cell_type": "code",
   "execution_count": 60,
   "metadata": {},
   "outputs": [
    {
     "data": {
      "text/plain": [
       "[('モンスト', 76),\n",
       " ('NYC', 35),\n",
       " ('Biden', 34),\n",
       " ('Ukraine', 31),\n",
       " ('Russia', 29),\n",
       " ('svpol', 22),\n",
       " ('GH', 21),\n",
       " ('WhiteCoatSummit', 20),\n",
       " ('politik', 17),\n",
       " ('nyc', 17),\n",
       " ('モンストプリズン', 16),\n",
       " ('6周年カウントダウン', 16),\n",
       " ('Putin', 16),\n",
       " ('NewYorkCity', 13),\n",
       " ('COVID19', 13),\n",
       " ('モンストドラえもん', 12),\n",
       " ('オーブ毎週50個以上配布', 12),\n",
       " ('Trump', 12),\n",
       " ('Afghanistan', 12),\n",
       " ('HunterBiden', 9),\n",
       " ('JudgeKetanjiBrownJackson', 9),\n",
       " ('Taliban', 9),\n",
       " ('BlackLivesMatter', 9),\n",
       " ('US', 9),\n",
       " ('IMPEACHBIDENNOW', 8),\n",
       " ('biden', 8),\n",
       " ('Florida', 8),\n",
       " ('Democrats', 8),\n",
       " ('JoeBiden', 8),\n",
       " ('WillSmith', 8)]"
      ]
     },
     "execution_count": 60,
     "metadata": {},
     "output_type": "execute_result"
    }
   ],
   "source": [
    "reversed_hashtags_sorted[:30]"
   ]
  },
  {
   "cell_type": "code",
   "execution_count": 68,
   "metadata": {},
   "outputs": [
    {
     "name": "stdout",
     "output_type": "stream",
     "text": [
      "Finished checking, start saving\n"
     ]
    }
   ],
   "source": [
    "keywords_2 = ['ukraine', 'russia','ukrainewar','ukrainerussianwar','war','russiainvadedukraine','invasion']\n",
    "\n",
    "db, api = init_state()\n",
    "tweets = db.tweets.find()\n",
    "users_dict_2 = {}\n",
    "for tw in tweets:\n",
    "    # Check if tweets has hashtags and is posted after 2019\n",
    "    if 'hashtags' in tw and tw['created_at'].year >= 2021:\n",
    "        # Check if keywords matches\n",
    "        if hashtag_keywords_check(keywords_2, tw['hashtags']) or tweets_keywords_check(keywords_2, tw['text']):\n",
    "            if tw['user']['id'] not in users_dict_2:\n",
    "                users_dict_2[tw['user']['id']] = []\n",
    "            # Turn timestamp(datetime.datetime) to dictionary\n",
    "            created = tw['created_at']\n",
    "            timestamp = {'year':created.year,'month':created.month,'day':created.day,\n",
    "                         'hour':created.hour,'minute':created.minute,'second':created.second}\n",
    "            # Compute score for tweet texts\n",
    "            text = tw['text']\n",
    "            subjectivity = TextBlob(text).sentiment.subjectivity\n",
    "            polarity = TextBlob(text).sentiment.polarity\n",
    "            \n",
    "            # Create dictionary for tweets    \n",
    "            desc = {\"tweet_id\": tw['id'], \"created_at\": timestamp,\n",
    "                    \"subjectivity\": subjectivity, \"polarity\": polarity}\n",
    "            \n",
    "            # Append this dictionary to the corresponding user\n",
    "            users_dict_2[tw['user']['id']].append(desc)\n",
    "                \n",
    "print(\"Finished checking, start saving\")\n",
    "\n",
    "# Save the user-tweets dictionary\n",
    "with open('user_tweets_2.json', 'w') as fp:\n",
    "    json.dump(users_dict_2, fp)\n",
    "    \n",
    "# Save the users for induced graph\n",
    "users_2 = list(users_dict_2.keys())\n",
    "np.save(\"keyword_users_2.npy\", np.array(users_2))"
   ]
  },
  {
   "cell_type": "code",
   "execution_count": 69,
   "metadata": {},
   "outputs": [
    {
     "data": {
      "text/plain": [
       "6587"
      ]
     },
     "execution_count": 69,
     "metadata": {},
     "output_type": "execute_result"
    }
   ],
   "source": [
    "len(users_2)"
   ]
  },
  {
   "cell_type": "code",
   "execution_count": 72,
   "metadata": {},
   "outputs": [],
   "source": [
    "kw_user_2 = np.load(\"keyword_users_2.npy\")\n",
    "induced_users_2 = []\n",
    "for i in kw_user_2:\n",
    "    if i in current_users:\n",
    "        induced_users_2.append(i)"
   ]
  },
  {
   "cell_type": "markdown",
   "metadata": {},
   "source": [
    "#### Get final graph"
   ]
  },
  {
   "cell_type": "code",
   "execution_count": 73,
   "metadata": {},
   "outputs": [],
   "source": [
    "final_users = []\n",
    "for i in induced_users:\n",
    "    if i in induced_users_2:\n",
    "        final_users.append(i)"
   ]
  },
  {
   "cell_type": "code",
   "execution_count": 75,
   "metadata": {},
   "outputs": [],
   "source": [
    "final_graph = latest_G.subgraph(final_users)"
   ]
  },
  {
   "cell_type": "code",
   "execution_count": 76,
   "metadata": {},
   "outputs": [
    {
     "name": "stdout",
     "output_type": "stream",
     "text": [
      "Number of nodes finally: 3453\n",
      "Number of edges finally: 11508\n"
     ]
    }
   ],
   "source": [
    "print(\"Number of nodes finally:\",len(list(final_graph.nodes())))\n",
    "print(\"Number of edges finally:\",len(list(final_graph.edges())))"
   ]
  },
  {
   "cell_type": "code",
   "execution_count": 77,
   "metadata": {},
   "outputs": [],
   "source": [
    "nx.write_gpickle(final_graph,\"final.gpickle\")"
   ]
  }
 ],
 "metadata": {
  "kernelspec": {
   "display_name": "Python 3 (ipykernel)",
   "language": "python",
   "name": "python3"
  },
  "language_info": {
   "codemirror_mode": {
    "name": "ipython",
    "version": 3
   },
   "file_extension": ".py",
   "mimetype": "text/x-python",
   "name": "python",
   "nbconvert_exporter": "python",
   "pygments_lexer": "ipython3",
   "version": "3.9.11"
  }
 },
 "nbformat": 4,
 "nbformat_minor": 4
}
